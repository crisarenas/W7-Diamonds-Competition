{
 "cells": [
  {
   "cell_type": "markdown",
   "metadata": {},
   "source": [
    "# Model for diamond price prediction"
   ]
  },
  {
   "cell_type": "code",
   "execution_count": 40,
   "metadata": {},
   "outputs": [],
   "source": [
    "import pandas as pd\n",
    "import matplotlib.pyplot as plt\n",
    "import seaborn as sn\n",
    "from sklearn.preprocessing import StandardScaler\n",
    "from sklearn.model_selection import cross_val_score\n",
    "from random import randint"
   ]
  },
  {
   "cell_type": "markdown",
   "metadata": {},
   "source": [
    "# Datasets"
   ]
  },
  {
   "cell_type": "code",
   "execution_count": 41,
   "metadata": {},
   "outputs": [],
   "source": [
    "train          = pd.read_csv('input/train.csv')\n",
    "test           = pd.read_csv('input/predict.csv')\n",
    "submit_example = pd.read_csv('input/sample_submission.csv')"
   ]
  },
  {
   "cell_type": "markdown",
   "metadata": {},
   "source": [
    " "
   ]
  },
  {
   "cell_type": "markdown",
   "metadata": {},
   "source": [
    " "
   ]
  },
  {
   "cell_type": "markdown",
   "metadata": {},
   "source": [
    "# Data shape"
   ]
  },
  {
   "cell_type": "code",
   "execution_count": 42,
   "metadata": {},
   "outputs": [
    {
     "name": "stdout",
     "output_type": "stream",
     "text": [
      "The training set shape is (40455, 11)\n",
      "The testing set shape is (13485, 10)\n",
      "We are training 75.0% of the data.\n"
     ]
    }
   ],
   "source": [
    "print(f\"The training set shape is {train.shape}\")\n",
    "print(f\"The testing set shape is {test.shape}\")\n",
    "print(f\"We are training {(train.shape[0]*100)/(train.shape[0]+test.shape[0])}% of the data.\")"
   ]
  },
  {
   "cell_type": "markdown",
   "metadata": {},
   "source": [
    " "
   ]
  },
  {
   "cell_type": "markdown",
   "metadata": {},
   "source": [
    " "
   ]
  },
  {
   "cell_type": "markdown",
   "metadata": {},
   "source": [
    "# Data types"
   ]
  },
  {
   "cell_type": "code",
   "execution_count": 43,
   "metadata": {},
   "outputs": [
    {
     "data": {
      "text/plain": [
       "id           int64\n",
       "carat      float64\n",
       "cut         object\n",
       "color       object\n",
       "clarity     object\n",
       "depth      float64\n",
       "table      float64\n",
       "x          float64\n",
       "y          float64\n",
       "z          float64\n",
       "price        int64\n",
       "dtype: object"
      ]
     },
     "execution_count": 43,
     "metadata": {},
     "output_type": "execute_result"
    }
   ],
   "source": [
    "train.dtypes"
   ]
  },
  {
   "cell_type": "code",
   "execution_count": 44,
   "metadata": {},
   "outputs": [
    {
     "data": {
      "text/html": [
       "<div>\n",
       "<style scoped>\n",
       "    .dataframe tbody tr th:only-of-type {\n",
       "        vertical-align: middle;\n",
       "    }\n",
       "\n",
       "    .dataframe tbody tr th {\n",
       "        vertical-align: top;\n",
       "    }\n",
       "\n",
       "    .dataframe thead th {\n",
       "        text-align: right;\n",
       "    }\n",
       "</style>\n",
       "<table border=\"1\" class=\"dataframe\">\n",
       "  <thead>\n",
       "    <tr style=\"text-align: right;\">\n",
       "      <th></th>\n",
       "      <th>id</th>\n",
       "      <th>carat</th>\n",
       "      <th>cut</th>\n",
       "      <th>color</th>\n",
       "      <th>clarity</th>\n",
       "      <th>depth</th>\n",
       "      <th>table</th>\n",
       "      <th>x</th>\n",
       "      <th>y</th>\n",
       "      <th>z</th>\n",
       "      <th>price</th>\n",
       "    </tr>\n",
       "  </thead>\n",
       "  <tbody>\n",
       "    <tr>\n",
       "      <th>0</th>\n",
       "      <td>0</td>\n",
       "      <td>0.50</td>\n",
       "      <td>Ideal</td>\n",
       "      <td>D</td>\n",
       "      <td>VS2</td>\n",
       "      <td>62.3</td>\n",
       "      <td>55.0</td>\n",
       "      <td>5.11</td>\n",
       "      <td>5.07</td>\n",
       "      <td>3.17</td>\n",
       "      <td>1845</td>\n",
       "    </tr>\n",
       "    <tr>\n",
       "      <th>1</th>\n",
       "      <td>1</td>\n",
       "      <td>1.54</td>\n",
       "      <td>Good</td>\n",
       "      <td>I</td>\n",
       "      <td>VS1</td>\n",
       "      <td>63.6</td>\n",
       "      <td>60.0</td>\n",
       "      <td>7.30</td>\n",
       "      <td>7.33</td>\n",
       "      <td>4.65</td>\n",
       "      <td>10164</td>\n",
       "    </tr>\n",
       "    <tr>\n",
       "      <th>2</th>\n",
       "      <td>2</td>\n",
       "      <td>1.32</td>\n",
       "      <td>Very Good</td>\n",
       "      <td>J</td>\n",
       "      <td>SI2</td>\n",
       "      <td>61.7</td>\n",
       "      <td>60.0</td>\n",
       "      <td>6.95</td>\n",
       "      <td>7.01</td>\n",
       "      <td>4.31</td>\n",
       "      <td>5513</td>\n",
       "    </tr>\n",
       "    <tr>\n",
       "      <th>3</th>\n",
       "      <td>3</td>\n",
       "      <td>1.20</td>\n",
       "      <td>Ideal</td>\n",
       "      <td>I</td>\n",
       "      <td>SI1</td>\n",
       "      <td>62.1</td>\n",
       "      <td>55.0</td>\n",
       "      <td>6.83</td>\n",
       "      <td>6.79</td>\n",
       "      <td>4.23</td>\n",
       "      <td>5174</td>\n",
       "    </tr>\n",
       "    <tr>\n",
       "      <th>4</th>\n",
       "      <td>4</td>\n",
       "      <td>1.73</td>\n",
       "      <td>Premium</td>\n",
       "      <td>I</td>\n",
       "      <td>SI1</td>\n",
       "      <td>61.2</td>\n",
       "      <td>60.0</td>\n",
       "      <td>7.67</td>\n",
       "      <td>7.65</td>\n",
       "      <td>4.69</td>\n",
       "      <td>10957</td>\n",
       "    </tr>\n",
       "  </tbody>\n",
       "</table>\n",
       "</div>"
      ],
      "text/plain": [
       "   id  carat        cut color clarity  depth  table     x     y     z  price\n",
       "0   0   0.50      Ideal     D     VS2   62.3   55.0  5.11  5.07  3.17   1845\n",
       "1   1   1.54       Good     I     VS1   63.6   60.0  7.30  7.33  4.65  10164\n",
       "2   2   1.32  Very Good     J     SI2   61.7   60.0  6.95  7.01  4.31   5513\n",
       "3   3   1.20      Ideal     I     SI1   62.1   55.0  6.83  6.79  4.23   5174\n",
       "4   4   1.73    Premium     I     SI1   61.2   60.0  7.67  7.65  4.69  10957"
      ]
     },
     "execution_count": 44,
     "metadata": {},
     "output_type": "execute_result"
    }
   ],
   "source": [
    "train.head()"
   ]
  },
  {
   "cell_type": "markdown",
   "metadata": {},
   "source": [
    " "
   ]
  },
  {
   "cell_type": "markdown",
   "metadata": {},
   "source": [
    " "
   ]
  },
  {
   "cell_type": "markdown",
   "metadata": {},
   "source": [
    "# Cleaning and creating numeric columns"
   ]
  },
  {
   "cell_type": "markdown",
   "metadata": {},
   "source": [
    "##### There are no null data so, let's inspect each column."
   ]
  },
  {
   "cell_type": "code",
   "execution_count": 45,
   "metadata": {},
   "outputs": [
    {
     "data": {
      "text/plain": [
       "id         0\n",
       "carat      0\n",
       "cut        0\n",
       "color      0\n",
       "clarity    0\n",
       "depth      0\n",
       "table      0\n",
       "x          0\n",
       "y          0\n",
       "z          0\n",
       "price      0\n",
       "dtype: int64"
      ]
     },
     "execution_count": 45,
     "metadata": {},
     "output_type": "execute_result"
    }
   ],
   "source": [
    "train.isnull().sum()"
   ]
  },
  {
   "cell_type": "markdown",
   "metadata": {},
   "source": [
    "## Columns X,Y,Z"
   ]
  },
  {
   "cell_type": "markdown",
   "metadata": {},
   "source": [
    "In these columns, there are 6 rows that don't have x,y,z value, which is impossible because that means that the diamond does not exist."
   ]
  },
  {
   "cell_type": "code",
   "execution_count": 46,
   "metadata": {},
   "outputs": [
    {
     "data": {
      "text/html": [
       "<div>\n",
       "<style scoped>\n",
       "    .dataframe tbody tr th:only-of-type {\n",
       "        vertical-align: middle;\n",
       "    }\n",
       "\n",
       "    .dataframe tbody tr th {\n",
       "        vertical-align: top;\n",
       "    }\n",
       "\n",
       "    .dataframe thead th {\n",
       "        text-align: right;\n",
       "    }\n",
       "</style>\n",
       "<table border=\"1\" class=\"dataframe\">\n",
       "  <thead>\n",
       "    <tr style=\"text-align: right;\">\n",
       "      <th></th>\n",
       "      <th>id</th>\n",
       "      <th>carat</th>\n",
       "      <th>cut</th>\n",
       "      <th>color</th>\n",
       "      <th>clarity</th>\n",
       "      <th>depth</th>\n",
       "      <th>table</th>\n",
       "      <th>x</th>\n",
       "      <th>y</th>\n",
       "      <th>z</th>\n",
       "      <th>price</th>\n",
       "    </tr>\n",
       "  </thead>\n",
       "  <tbody>\n",
       "    <tr>\n",
       "      <th>2365</th>\n",
       "      <td>2365</td>\n",
       "      <td>0.71</td>\n",
       "      <td>Good</td>\n",
       "      <td>F</td>\n",
       "      <td>SI2</td>\n",
       "      <td>64.1</td>\n",
       "      <td>60.0</td>\n",
       "      <td>0.0</td>\n",
       "      <td>0.0</td>\n",
       "      <td>0.0</td>\n",
       "      <td>2130</td>\n",
       "    </tr>\n",
       "    <tr>\n",
       "      <th>2572</th>\n",
       "      <td>2572</td>\n",
       "      <td>1.56</td>\n",
       "      <td>Ideal</td>\n",
       "      <td>G</td>\n",
       "      <td>VS2</td>\n",
       "      <td>62.2</td>\n",
       "      <td>54.0</td>\n",
       "      <td>0.0</td>\n",
       "      <td>0.0</td>\n",
       "      <td>0.0</td>\n",
       "      <td>12800</td>\n",
       "    </tr>\n",
       "    <tr>\n",
       "      <th>3276</th>\n",
       "      <td>3276</td>\n",
       "      <td>1.00</td>\n",
       "      <td>Very Good</td>\n",
       "      <td>H</td>\n",
       "      <td>VS2</td>\n",
       "      <td>63.3</td>\n",
       "      <td>53.0</td>\n",
       "      <td>0.0</td>\n",
       "      <td>0.0</td>\n",
       "      <td>0.0</td>\n",
       "      <td>5139</td>\n",
       "    </tr>\n",
       "    <tr>\n",
       "      <th>23323</th>\n",
       "      <td>23323</td>\n",
       "      <td>1.20</td>\n",
       "      <td>Premium</td>\n",
       "      <td>D</td>\n",
       "      <td>VVS1</td>\n",
       "      <td>62.1</td>\n",
       "      <td>59.0</td>\n",
       "      <td>0.0</td>\n",
       "      <td>0.0</td>\n",
       "      <td>0.0</td>\n",
       "      <td>15686</td>\n",
       "    </tr>\n",
       "    <tr>\n",
       "      <th>29257</th>\n",
       "      <td>29257</td>\n",
       "      <td>1.14</td>\n",
       "      <td>Fair</td>\n",
       "      <td>G</td>\n",
       "      <td>VS1</td>\n",
       "      <td>57.5</td>\n",
       "      <td>67.0</td>\n",
       "      <td>0.0</td>\n",
       "      <td>0.0</td>\n",
       "      <td>0.0</td>\n",
       "      <td>6381</td>\n",
       "    </tr>\n",
       "    <tr>\n",
       "      <th>30240</th>\n",
       "      <td>30240</td>\n",
       "      <td>0.71</td>\n",
       "      <td>Good</td>\n",
       "      <td>F</td>\n",
       "      <td>SI2</td>\n",
       "      <td>64.1</td>\n",
       "      <td>60.0</td>\n",
       "      <td>0.0</td>\n",
       "      <td>0.0</td>\n",
       "      <td>0.0</td>\n",
       "      <td>2130</td>\n",
       "    </tr>\n",
       "  </tbody>\n",
       "</table>\n",
       "</div>"
      ],
      "text/plain": [
       "          id  carat        cut color clarity  depth  table    x    y    z  \\\n",
       "2365    2365   0.71       Good     F     SI2   64.1   60.0  0.0  0.0  0.0   \n",
       "2572    2572   1.56      Ideal     G     VS2   62.2   54.0  0.0  0.0  0.0   \n",
       "3276    3276   1.00  Very Good     H     VS2   63.3   53.0  0.0  0.0  0.0   \n",
       "23323  23323   1.20    Premium     D    VVS1   62.1   59.0  0.0  0.0  0.0   \n",
       "29257  29257   1.14       Fair     G     VS1   57.5   67.0  0.0  0.0  0.0   \n",
       "30240  30240   0.71       Good     F     SI2   64.1   60.0  0.0  0.0  0.0   \n",
       "\n",
       "       price  \n",
       "2365    2130  \n",
       "2572   12800  \n",
       "3276    5139  \n",
       "23323  15686  \n",
       "29257   6381  \n",
       "30240   2130  "
      ]
     },
     "execution_count": 46,
     "metadata": {},
     "output_type": "execute_result"
    }
   ],
   "source": [
    "train[train.x==0]"
   ]
  },
  {
   "cell_type": "markdown",
   "metadata": {},
   "source": [
    "**Solution:**\n",
    "\n",
    "The depth varible formula is:\n",
    "\n",
    "                    depth(total depth percentage) = z / mean(x, y) = 2 * z / (x + y)\n",
    "\n",
    "Thos column depends of the three variables x,y,z, so let's overwrite the x,y,z = 0 with rows with similar depth."
   ]
  },
  {
   "cell_type": "code",
   "execution_count": 47,
   "metadata": {},
   "outputs": [
    {
     "data": {
      "text/html": [
       "<div>\n",
       "<style scoped>\n",
       "    .dataframe tbody tr th:only-of-type {\n",
       "        vertical-align: middle;\n",
       "    }\n",
       "\n",
       "    .dataframe tbody tr th {\n",
       "        vertical-align: top;\n",
       "    }\n",
       "\n",
       "    .dataframe thead th {\n",
       "        text-align: right;\n",
       "    }\n",
       "</style>\n",
       "<table border=\"1\" class=\"dataframe\">\n",
       "  <thead>\n",
       "    <tr style=\"text-align: right;\">\n",
       "      <th></th>\n",
       "      <th>id</th>\n",
       "      <th>carat</th>\n",
       "      <th>cut</th>\n",
       "      <th>color</th>\n",
       "      <th>clarity</th>\n",
       "      <th>depth</th>\n",
       "      <th>table</th>\n",
       "      <th>x</th>\n",
       "      <th>y</th>\n",
       "      <th>z</th>\n",
       "      <th>price</th>\n",
       "    </tr>\n",
       "  </thead>\n",
       "  <tbody>\n",
       "    <tr>\n",
       "      <th>1685</th>\n",
       "      <td>1685</td>\n",
       "      <td>0.70</td>\n",
       "      <td>Good</td>\n",
       "      <td>H</td>\n",
       "      <td>VS2</td>\n",
       "      <td>64.1</td>\n",
       "      <td>58.0</td>\n",
       "      <td>5.51</td>\n",
       "      <td>5.57</td>\n",
       "      <td>3.55</td>\n",
       "      <td>2137</td>\n",
       "    </tr>\n",
       "    <tr>\n",
       "      <th>2365</th>\n",
       "      <td>2365</td>\n",
       "      <td>0.71</td>\n",
       "      <td>Good</td>\n",
       "      <td>F</td>\n",
       "      <td>SI2</td>\n",
       "      <td>64.1</td>\n",
       "      <td>60.0</td>\n",
       "      <td>0.00</td>\n",
       "      <td>0.00</td>\n",
       "      <td>0.00</td>\n",
       "      <td>2130</td>\n",
       "    </tr>\n",
       "    <tr>\n",
       "      <th>10318</th>\n",
       "      <td>10318</td>\n",
       "      <td>0.77</td>\n",
       "      <td>Good</td>\n",
       "      <td>I</td>\n",
       "      <td>VS1</td>\n",
       "      <td>64.1</td>\n",
       "      <td>55.0</td>\n",
       "      <td>5.80</td>\n",
       "      <td>5.86</td>\n",
       "      <td>3.73</td>\n",
       "      <td>2184</td>\n",
       "    </tr>\n",
       "    <tr>\n",
       "      <th>14114</th>\n",
       "      <td>14114</td>\n",
       "      <td>0.66</td>\n",
       "      <td>Good</td>\n",
       "      <td>F</td>\n",
       "      <td>VS2</td>\n",
       "      <td>64.1</td>\n",
       "      <td>56.0</td>\n",
       "      <td>5.50</td>\n",
       "      <td>5.46</td>\n",
       "      <td>3.51</td>\n",
       "      <td>2138</td>\n",
       "    </tr>\n",
       "    <tr>\n",
       "      <th>30240</th>\n",
       "      <td>30240</td>\n",
       "      <td>0.71</td>\n",
       "      <td>Good</td>\n",
       "      <td>F</td>\n",
       "      <td>SI2</td>\n",
       "      <td>64.1</td>\n",
       "      <td>60.0</td>\n",
       "      <td>0.00</td>\n",
       "      <td>0.00</td>\n",
       "      <td>0.00</td>\n",
       "      <td>2130</td>\n",
       "    </tr>\n",
       "  </tbody>\n",
       "</table>\n",
       "</div>"
      ],
      "text/plain": [
       "          id  carat   cut color clarity  depth  table     x     y     z  price\n",
       "1685    1685   0.70  Good     H     VS2   64.1   58.0  5.51  5.57  3.55   2137\n",
       "2365    2365   0.71  Good     F     SI2   64.1   60.0  0.00  0.00  0.00   2130\n",
       "10318  10318   0.77  Good     I     VS1   64.1   55.0  5.80  5.86  3.73   2184\n",
       "14114  14114   0.66  Good     F     VS2   64.1   56.0  5.50  5.46  3.51   2138\n",
       "30240  30240   0.71  Good     F     SI2   64.1   60.0  0.00  0.00  0.00   2130"
      ]
     },
     "execution_count": 47,
     "metadata": {},
     "output_type": "execute_result"
    }
   ],
   "source": [
    "# Example of search\n",
    "train[(train.depth==64.1) & (train.price>2100) & (train.price<2200)]"
   ]
  },
  {
   "cell_type": "code",
   "execution_count": 48,
   "metadata": {},
   "outputs": [],
   "source": [
    "'''#Replacements:\n",
    "\n",
    "#2365--> 14114 shares: cut,color,depth and price\n",
    "train.loc[2365,'x'] = 5.50\n",
    "train.loc[2365,'y'] = 5.46\n",
    "train.loc[2365,'z'] = 3.51\n",
    "\n",
    "#2572\n",
    "train.loc[2572,'x'] = 7.9\n",
    "train.loc[2572,'y'] = 7.94\n",
    "train.loc[2572,'z'] = 4.93\n",
    "\n",
    "#3276\n",
    "train.loc[3276,'x'] = 6.7\n",
    "train.loc[3276,'y'] = 6.70\n",
    "train.loc[3276,'z'] = 4.26\n",
    "\n",
    "#23323\n",
    "train.loc[23323,'x'] = 8.24\n",
    "train.loc[23323,'y'] = 8.27\n",
    "train.loc[23323,'z'] = 5.13\n",
    "\n",
    "#29257\n",
    "train.loc[29257,'x'] = 6.57\n",
    "train.loc[29257,'y'] = 6.64\n",
    "train.loc[29257,'z'] = 3.79\n",
    "\n",
    "#30240\n",
    "train.loc[30240,'x'] = 5.50\n",
    "train.loc[30240,'y'] = 5.46\n",
    "train.loc[30240,'z'] = 3.51''';"
   ]
  },
  {
   "cell_type": "markdown",
   "metadata": {},
   "source": [
    " "
   ]
  },
  {
   "cell_type": "markdown",
   "metadata": {},
   "source": [
    " "
   ]
  },
  {
   "cell_type": "markdown",
   "metadata": {},
   "source": [
    " "
   ]
  },
  {
   "cell_type": "markdown",
   "metadata": {},
   "source": [
    "## Column Cut"
   ]
  },
  {
   "cell_type": "markdown",
   "metadata": {},
   "source": [
    "##### Quality of the cut (Fair, Good, Very Good, Premium, Ideal)"
   ]
  },
  {
   "cell_type": "markdown",
   "metadata": {},
   "source": [
    "Since there are just 5 types of cut, instead of using dummies, We will assign a grade to them. Being 1 the worst cut and 5 the best."
   ]
  },
  {
   "cell_type": "code",
   "execution_count": 49,
   "metadata": {},
   "outputs": [
    {
     "data": {
      "text/plain": [
       "array(['Ideal', 'Good', 'Very Good', 'Premium', 'Fair'], dtype=object)"
      ]
     },
     "execution_count": 49,
     "metadata": {},
     "output_type": "execute_result"
    }
   ],
   "source": [
    "train.cut.unique()"
   ]
  },
  {
   "cell_type": "code",
   "execution_count": 50,
   "metadata": {},
   "outputs": [
    {
     "data": {
      "text/plain": [
       "Ideal        16152\n",
       "Premium      10321\n",
       "Very Good     9040\n",
       "Good          3729\n",
       "Fair          1213\n",
       "Name: cut, dtype: int64"
      ]
     },
     "execution_count": 50,
     "metadata": {},
     "output_type": "execute_result"
    }
   ],
   "source": [
    "train.cut.value_counts()"
   ]
  },
  {
   "cell_type": "code",
   "execution_count": 51,
   "metadata": {},
   "outputs": [],
   "source": [
    "cut = {'Fair':5,'Good':4,'Very Good':3, 'Premium':2, 'Ideal':1}"
   ]
  },
  {
   "cell_type": "code",
   "execution_count": 52,
   "metadata": {},
   "outputs": [],
   "source": [
    "train.cut.replace(cut, inplace=True)\n",
    "test.cut.replace(cut, inplace=True)"
   ]
  },
  {
   "cell_type": "code",
   "execution_count": 53,
   "metadata": {},
   "outputs": [
    {
     "data": {
      "text/plain": [
       "array([1, 4, 3, 2, 5], dtype=int64)"
      ]
     },
     "execution_count": 53,
     "metadata": {},
     "output_type": "execute_result"
    }
   ],
   "source": [
    "train.cut.unique()"
   ]
  },
  {
   "cell_type": "code",
   "execution_count": 54,
   "metadata": {},
   "outputs": [
    {
     "data": {
      "text/plain": [
       "array([2, 1, 3, 4, 5], dtype=int64)"
      ]
     },
     "execution_count": 54,
     "metadata": {},
     "output_type": "execute_result"
    }
   ],
   "source": [
    "test.cut.unique()"
   ]
  },
  {
   "cell_type": "markdown",
   "metadata": {},
   "source": [
    " "
   ]
  },
  {
   "cell_type": "markdown",
   "metadata": {},
   "source": [
    " "
   ]
  },
  {
   "cell_type": "markdown",
   "metadata": {},
   "source": [
    " "
   ]
  },
  {
   "cell_type": "markdown",
   "metadata": {},
   "source": [
    "## Column Color"
   ]
  },
  {
   "cell_type": "markdown",
   "metadata": {},
   "source": [
    "##### Diamond colour, from J (worst) to D (best)"
   ]
  },
  {
   "cell_type": "code",
   "execution_count": 55,
   "metadata": {},
   "outputs": [
    {
     "data": {
      "text/plain": [
       "array(['D', 'I', 'J', 'G', 'E', 'H', 'F'], dtype=object)"
      ]
     },
     "execution_count": 55,
     "metadata": {},
     "output_type": "execute_result"
    }
   ],
   "source": [
    "train.color.unique()"
   ]
  },
  {
   "cell_type": "code",
   "execution_count": 56,
   "metadata": {},
   "outputs": [],
   "source": [
    "color = {'J':7,'I':6,'H':5, 'G':4, 'F':3, 'E':2, 'D':1}"
   ]
  },
  {
   "cell_type": "code",
   "execution_count": 57,
   "metadata": {},
   "outputs": [],
   "source": [
    "train.color.replace(color, inplace=True)\n",
    "test.color.replace(color, inplace=True)"
   ]
  },
  {
   "cell_type": "code",
   "execution_count": 58,
   "metadata": {},
   "outputs": [
    {
     "data": {
      "text/plain": [
       "array([1, 6, 7, 4, 2, 5, 3], dtype=int64)"
      ]
     },
     "execution_count": 58,
     "metadata": {},
     "output_type": "execute_result"
    }
   ],
   "source": [
    "train.color.unique()"
   ]
  },
  {
   "cell_type": "code",
   "execution_count": 59,
   "metadata": {},
   "outputs": [
    {
     "data": {
      "text/plain": [
       "array([2, 5, 6, 1, 4, 7, 3], dtype=int64)"
      ]
     },
     "execution_count": 59,
     "metadata": {},
     "output_type": "execute_result"
    }
   ],
   "source": [
    "test.color.unique()"
   ]
  },
  {
   "cell_type": "markdown",
   "metadata": {},
   "source": [
    " "
   ]
  },
  {
   "cell_type": "markdown",
   "metadata": {},
   "source": [
    " "
   ]
  },
  {
   "cell_type": "markdown",
   "metadata": {},
   "source": [
    " "
   ]
  },
  {
   "cell_type": "markdown",
   "metadata": {},
   "source": [
    "## Column clarity"
   ]
  },
  {
   "cell_type": "markdown",
   "metadata": {},
   "source": [
    "##### A measurement of how clear the diamond is (I1 (worst), SI2, SI1, VS2, VS1, VVS2, VVS1, IF (best))"
   ]
  },
  {
   "cell_type": "code",
   "execution_count": 60,
   "metadata": {},
   "outputs": [
    {
     "data": {
      "text/plain": [
       "array(['VS2', 'VS1', 'SI2', 'SI1', 'VVS2', 'VVS1', 'I1', 'IF'],\n",
       "      dtype=object)"
      ]
     },
     "execution_count": 60,
     "metadata": {},
     "output_type": "execute_result"
    }
   ],
   "source": [
    "train.clarity.unique()"
   ]
  },
  {
   "cell_type": "code",
   "execution_count": 61,
   "metadata": {},
   "outputs": [],
   "source": [
    "clarity = {'I1':8,'SI2':7,'SI1':6, 'VS2':5, 'VS1':4, 'VVS2':3, 'VVS1':2, 'IF':1}"
   ]
  },
  {
   "cell_type": "code",
   "execution_count": 62,
   "metadata": {},
   "outputs": [],
   "source": [
    "train.clarity.replace(clarity, inplace=True)\n",
    "test.clarity.replace(clarity, inplace=True)"
   ]
  },
  {
   "cell_type": "code",
   "execution_count": 63,
   "metadata": {},
   "outputs": [
    {
     "data": {
      "text/plain": [
       "array([5, 4, 7, 6, 3, 2, 8, 1], dtype=int64)"
      ]
     },
     "execution_count": 63,
     "metadata": {},
     "output_type": "execute_result"
    }
   ],
   "source": [
    "train.clarity.unique()"
   ]
  },
  {
   "cell_type": "code",
   "execution_count": 64,
   "metadata": {},
   "outputs": [
    {
     "data": {
      "text/plain": [
       "array([6, 1, 5, 3, 7, 4, 2, 8], dtype=int64)"
      ]
     },
     "execution_count": 64,
     "metadata": {},
     "output_type": "execute_result"
    }
   ],
   "source": [
    "test.clarity.unique()"
   ]
  },
  {
   "cell_type": "markdown",
   "metadata": {},
   "source": [
    " "
   ]
  },
  {
   "cell_type": "markdown",
   "metadata": {},
   "source": [
    " "
   ]
  },
  {
   "cell_type": "markdown",
   "metadata": {},
   "source": [
    " "
   ]
  },
  {
   "cell_type": "markdown",
   "metadata": {},
   "source": [
    "# Correlation Matrix"
   ]
  },
  {
   "cell_type": "code",
   "execution_count": 65,
   "metadata": {},
   "outputs": [],
   "source": [
    "corr = train.corr()"
   ]
  },
  {
   "cell_type": "code",
   "execution_count": 66,
   "metadata": {},
   "outputs": [
    {
     "data": {
      "image/png": "[encoded data removed]",
      "text/plain": [
       "<Figure size 1080x720 with 2 Axes>"
      ]
     },
     "metadata": {
      "needs_background": "light"
     },
     "output_type": "display_data"
    }
   ],
   "source": [
    "plt.figure(figsize=(15,10))\n",
    "sn.heatmap(corr, annot=True);"
   ]
  },
  {
   "cell_type": "code",
   "execution_count": 67,
   "metadata": {},
   "outputs": [
    {
     "data": {
      "text/plain": [
       "price      1.000000\n",
       "carat      0.921776\n",
       "x          0.884862\n",
       "z          0.873913\n",
       "y          0.859062\n",
       "color      0.174569\n",
       "clarity    0.144279\n",
       "table      0.127199\n",
       "cut        0.052246\n",
       "id        -0.004630\n",
       "depth     -0.013715\n",
       "Name: price, dtype: float64"
      ]
     },
     "execution_count": 67,
     "metadata": {},
     "output_type": "execute_result"
    }
   ],
   "source": [
    "corr.price.sort_values(ascending=False)"
   ]
  },
  {
   "cell_type": "markdown",
   "metadata": {},
   "source": [
    "There are a few very correlated columns:\n",
    "- **x and z**: 0.99\n",
    "- **x and y**: 0.97\n",
    "- **z and y**: 0.97\n",
    "- **z and y**: 0.97\n",
    "- **carat and x,y,z**\n",
    "Let's drop one of them and see the results\n",
    "\n",
    "Carat is the weight, and that depends of the volume of the diamond, so obviously x,y and z are correlated to it.\n",
    "\n",
    "Also, carat and price are very correlated."
   ]
  },
  {
   "cell_type": "code",
   "execution_count": 68,
   "metadata": {},
   "outputs": [
    {
     "data": {
      "text/plain": [
       "\"train = train.drop(columns = ['x'])\\ntest = test.drop(columns = ['x'])\\n# This increased the RMSE\""
      ]
     },
     "execution_count": 68,
     "metadata": {},
     "output_type": "execute_result"
    }
   ],
   "source": [
    "'''train = train.drop(columns = ['x'])\n",
    "test = test.drop(columns = ['x'])\n",
    "# This increased the RMSE'''"
   ]
  },
  {
   "cell_type": "code",
   "execution_count": 69,
   "metadata": {},
   "outputs": [
    {
     "data": {
      "text/plain": [
       "\"train = train.drop(columns = ['y'])\\ntest = test.drop(columns = ['y'])\\n# This increased the RMSE\""
      ]
     },
     "execution_count": 69,
     "metadata": {},
     "output_type": "execute_result"
    }
   ],
   "source": [
    "'''train = train.drop(columns = ['y'])\n",
    "test = test.drop(columns = ['y'])\n",
    "# This increased the RMSE'''"
   ]
  },
  {
   "cell_type": "code",
   "execution_count": 70,
   "metadata": {},
   "outputs": [
    {
     "data": {
      "text/plain": [
       "\"train = train.drop(columns = ['z'])\\ntest = test.drop(columns = ['z'])\\n# This increased the RMSE\""
      ]
     },
     "execution_count": 70,
     "metadata": {},
     "output_type": "execute_result"
    }
   ],
   "source": [
    "'''train = train.drop(columns = ['z'])\n",
    "test = test.drop(columns = ['z'])\n",
    "# This increased the RMSE'''"
   ]
  },
  {
   "cell_type": "code",
   "execution_count": 71,
   "metadata": {},
   "outputs": [
    {
     "data": {
      "text/plain": [
       "\"train = train.drop(columns = ['carat'])\\ntest = test.drop(columns = ['carat'])\\n# This increased the RMSE\""
      ]
     },
     "execution_count": 71,
     "metadata": {},
     "output_type": "execute_result"
    }
   ],
   "source": [
    "'''train = train.drop(columns = ['carat'])\n",
    "test = test.drop(columns = ['carat'])\n",
    "# This increased the RMSE'''"
   ]
  },
  {
   "cell_type": "code",
   "execution_count": 72,
   "metadata": {},
   "outputs": [
    {
     "data": {
      "image/png": "[encoded data removed]",
      "text/plain": [
       "<Figure size 720x360 with 2 Axes>"
      ]
     },
     "metadata": {
      "needs_background": "light"
     },
     "output_type": "display_data"
    }
   ],
   "source": [
    "plt.figure(figsize=(10,5))\n",
    "sn.heatmap(train.corr(), annot=True);"
   ]
  },
  {
   "cell_type": "markdown",
   "metadata": {},
   "source": [
    " "
   ]
  },
  {
   "cell_type": "markdown",
   "metadata": {},
   "source": [
    " "
   ]
  },
  {
   "cell_type": "markdown",
   "metadata": {},
   "source": [
    " "
   ]
  },
  {
   "cell_type": "markdown",
   "metadata": {},
   "source": [
    " "
   ]
  },
  {
   "cell_type": "markdown",
   "metadata": {},
   "source": [
    " "
   ]
  },
  {
   "cell_type": "markdown",
   "metadata": {},
   "source": [
    " "
   ]
  },
  {
   "cell_type": "markdown",
   "metadata": {},
   "source": [
    "# Standardization"
   ]
  },
  {
   "cell_type": "markdown",
   "metadata": {},
   "source": [
    "Machine learning algorithms don't perform well when the input numerical attributes have very different scales.\n",
    "\n",
    "Standarization takes the max-min of each column and put it on the same range."
   ]
  },
  {
   "cell_type": "code",
   "execution_count": 73,
   "metadata": {},
   "outputs": [],
   "source": [
    "X_train = train.drop(columns = ['price','id'])\n",
    "y_train = train.price\n",
    "X_test = test.drop(columns = ['id'])"
   ]
  },
  {
   "cell_type": "code",
   "execution_count": 74,
   "metadata": {},
   "outputs": [],
   "source": [
    "#Initialize\n",
    "scaler = StandardScaler()\n",
    "train_scaled = scaler.fit_transform(X_train)\n",
    "train_scaled = pd.DataFrame(train_scaled,columns=X_train.columns)\n",
    "\n",
    "test_scaled = scaler.fit_transform(X_test)\n",
    "test_scaled = pd.DataFrame(test_scaled,columns=X_test.columns)\n"
   ]
  },
  {
   "cell_type": "code",
   "execution_count": 75,
   "metadata": {},
   "outputs": [
    {
     "data": {
      "text/html": [
       "<div>\n",
       "<style scoped>\n",
       "    .dataframe tbody tr th:only-of-type {\n",
       "        vertical-align: middle;\n",
       "    }\n",
       "\n",
       "    .dataframe tbody tr th {\n",
       "        vertical-align: top;\n",
       "    }\n",
       "\n",
       "    .dataframe thead th {\n",
       "        text-align: right;\n",
       "    }\n",
       "</style>\n",
       "<table border=\"1\" class=\"dataframe\">\n",
       "  <thead>\n",
       "    <tr style=\"text-align: right;\">\n",
       "      <th></th>\n",
       "      <th>carat</th>\n",
       "      <th>cut</th>\n",
       "      <th>color</th>\n",
       "      <th>clarity</th>\n",
       "      <th>depth</th>\n",
       "      <th>table</th>\n",
       "      <th>x</th>\n",
       "      <th>y</th>\n",
       "      <th>z</th>\n",
       "    </tr>\n",
       "  </thead>\n",
       "  <tbody>\n",
       "    <tr>\n",
       "      <th>0</th>\n",
       "      <td>-0.632446</td>\n",
       "      <td>-0.981914</td>\n",
       "      <td>-1.525600</td>\n",
       "      <td>0.028001</td>\n",
       "      <td>0.383802</td>\n",
       "      <td>-1.097621</td>\n",
       "      <td>-0.558232</td>\n",
       "      <td>-0.581687</td>\n",
       "      <td>-0.534190</td>\n",
       "    </tr>\n",
       "    <tr>\n",
       "      <th>1</th>\n",
       "      <td>1.555868</td>\n",
       "      <td>1.699679</td>\n",
       "      <td>1.412856</td>\n",
       "      <td>-0.581031</td>\n",
       "      <td>1.290434</td>\n",
       "      <td>1.130761</td>\n",
       "      <td>1.390745</td>\n",
       "      <td>1.377291</td>\n",
       "      <td>1.591276</td>\n",
       "    </tr>\n",
       "    <tr>\n",
       "      <th>2</th>\n",
       "      <td>1.092956</td>\n",
       "      <td>0.805815</td>\n",
       "      <td>2.000547</td>\n",
       "      <td>1.246066</td>\n",
       "      <td>-0.034644</td>\n",
       "      <td>1.130761</td>\n",
       "      <td>1.079264</td>\n",
       "      <td>1.099914</td>\n",
       "      <td>1.102993</td>\n",
       "    </tr>\n",
       "    <tr>\n",
       "      <th>3</th>\n",
       "      <td>0.840458</td>\n",
       "      <td>-0.981914</td>\n",
       "      <td>1.412856</td>\n",
       "      <td>0.637034</td>\n",
       "      <td>0.244320</td>\n",
       "      <td>-1.097621</td>\n",
       "      <td>0.972471</td>\n",
       "      <td>0.909217</td>\n",
       "      <td>0.988103</td>\n",
       "    </tr>\n",
       "    <tr>\n",
       "      <th>4</th>\n",
       "      <td>1.955657</td>\n",
       "      <td>-0.088050</td>\n",
       "      <td>1.412856</td>\n",
       "      <td>0.637034</td>\n",
       "      <td>-0.383348</td>\n",
       "      <td>1.130761</td>\n",
       "      <td>1.720024</td>\n",
       "      <td>1.654668</td>\n",
       "      <td>1.648721</td>\n",
       "    </tr>\n",
       "  </tbody>\n",
       "</table>\n",
       "</div>"
      ],
      "text/plain": [
       "      carat       cut     color   clarity     depth     table         x  \\\n",
       "0 -0.632446 -0.981914 -1.525600  0.028001  0.383802 -1.097621 -0.558232   \n",
       "1  1.555868  1.699679  1.412856 -0.581031  1.290434  1.130761  1.390745   \n",
       "2  1.092956  0.805815  2.000547  1.246066 -0.034644  1.130761  1.079264   \n",
       "3  0.840458 -0.981914  1.412856  0.637034  0.244320 -1.097621  0.972471   \n",
       "4  1.955657 -0.088050  1.412856  0.637034 -0.383348  1.130761  1.720024   \n",
       "\n",
       "          y         z  \n",
       "0 -0.581687 -0.534190  \n",
       "1  1.377291  1.591276  \n",
       "2  1.099914  1.102993  \n",
       "3  0.909217  0.988103  \n",
       "4  1.654668  1.648721  "
      ]
     },
     "execution_count": 75,
     "metadata": {},
     "output_type": "execute_result"
    }
   ],
   "source": [
    "train_scaled.head()"
   ]
  },
  {
   "cell_type": "code",
   "execution_count": 76,
   "metadata": {},
   "outputs": [
    {
     "data": {
      "text/html": [
       "<div>\n",
       "<style scoped>\n",
       "    .dataframe tbody tr th:only-of-type {\n",
       "        vertical-align: middle;\n",
       "    }\n",
       "\n",
       "    .dataframe tbody tr th {\n",
       "        vertical-align: top;\n",
       "    }\n",
       "\n",
       "    .dataframe thead th {\n",
       "        text-align: right;\n",
       "    }\n",
       "</style>\n",
       "<table border=\"1\" class=\"dataframe\">\n",
       "  <thead>\n",
       "    <tr style=\"text-align: right;\">\n",
       "      <th></th>\n",
       "      <th>carat</th>\n",
       "      <th>cut</th>\n",
       "      <th>color</th>\n",
       "      <th>clarity</th>\n",
       "      <th>depth</th>\n",
       "      <th>table</th>\n",
       "      <th>x</th>\n",
       "      <th>y</th>\n",
       "      <th>z</th>\n",
       "    </tr>\n",
       "  </thead>\n",
       "  <tbody>\n",
       "    <tr>\n",
       "      <th>0</th>\n",
       "      <td>-0.723249</td>\n",
       "      <td>-0.079362</td>\n",
       "      <td>-0.934928</td>\n",
       "      <td>0.641311</td>\n",
       "      <td>0.735871</td>\n",
       "      <td>0.253704</td>\n",
       "      <td>-0.746408</td>\n",
       "      <td>-0.790647</td>\n",
       "      <td>-0.653520</td>\n",
       "    </tr>\n",
       "    <tr>\n",
       "      <th>1</th>\n",
       "      <td>0.935745</td>\n",
       "      <td>-0.980195</td>\n",
       "      <td>0.830169</td>\n",
       "      <td>0.641311</td>\n",
       "      <td>-0.523936</td>\n",
       "      <td>-0.652825</td>\n",
       "      <td>1.117756</td>\n",
       "      <td>1.089064</td>\n",
       "      <td>0.956279</td>\n",
       "    </tr>\n",
       "    <tr>\n",
       "      <th>2</th>\n",
       "      <td>-0.978479</td>\n",
       "      <td>-0.980195</td>\n",
       "      <td>1.418535</td>\n",
       "      <td>-2.366299</td>\n",
       "      <td>0.035978</td>\n",
       "      <td>-1.106090</td>\n",
       "      <td>-1.122826</td>\n",
       "      <td>-1.125019</td>\n",
       "      <td>-1.049149</td>\n",
       "    </tr>\n",
       "    <tr>\n",
       "      <th>3</th>\n",
       "      <td>-0.595634</td>\n",
       "      <td>-0.079362</td>\n",
       "      <td>-1.523293</td>\n",
       "      <td>0.039789</td>\n",
       "      <td>-2.623616</td>\n",
       "      <td>1.160233</td>\n",
       "      <td>-0.378953</td>\n",
       "      <td>-0.411090</td>\n",
       "      <td>-0.639878</td>\n",
       "    </tr>\n",
       "    <tr>\n",
       "      <th>4</th>\n",
       "      <td>-0.829595</td>\n",
       "      <td>-0.079362</td>\n",
       "      <td>-0.934928</td>\n",
       "      <td>0.039789</td>\n",
       "      <td>0.315935</td>\n",
       "      <td>0.706968</td>\n",
       "      <td>-0.898768</td>\n",
       "      <td>-0.881018</td>\n",
       "      <td>-0.803586</td>\n",
       "    </tr>\n",
       "  </tbody>\n",
       "</table>\n",
       "</div>"
      ],
      "text/plain": [
       "      carat       cut     color   clarity     depth     table         x  \\\n",
       "0 -0.723249 -0.079362 -0.934928  0.641311  0.735871  0.253704 -0.746408   \n",
       "1  0.935745 -0.980195  0.830169  0.641311 -0.523936 -0.652825  1.117756   \n",
       "2 -0.978479 -0.980195  1.418535 -2.366299  0.035978 -1.106090 -1.122826   \n",
       "3 -0.595634 -0.079362 -1.523293  0.039789 -2.623616  1.160233 -0.378953   \n",
       "4 -0.829595 -0.079362 -0.934928  0.039789  0.315935  0.706968 -0.898768   \n",
       "\n",
       "          y         z  \n",
       "0 -0.790647 -0.653520  \n",
       "1  1.089064  0.956279  \n",
       "2 -1.125019 -1.049149  \n",
       "3 -0.411090 -0.639878  \n",
       "4 -0.881018 -0.803586  "
      ]
     },
     "execution_count": 76,
     "metadata": {},
     "output_type": "execute_result"
    }
   ],
   "source": [
    "test_scaled.head()"
   ]
  },
  {
   "cell_type": "code",
   "execution_count": 77,
   "metadata": {},
   "outputs": [],
   "source": [
    "train_scaled['id'] = train['id']\n",
    "train_scaled['price'] = train['price']\n",
    "test_scaled['id'] = test['id']"
   ]
  },
  {
   "cell_type": "code",
   "execution_count": 78,
   "metadata": {},
   "outputs": [],
   "source": [
    "X_train = train_scaled.drop(columns = ['price','id'])\n",
    "y_train = train.price\n",
    "X_test = test_scaled.drop(columns = ['id'])"
   ]
  },
  {
   "cell_type": "code",
   "execution_count": null,
   "metadata": {},
   "outputs": [],
   "source": []
  },
  {
   "cell_type": "code",
   "execution_count": null,
   "metadata": {},
   "outputs": [],
   "source": []
  },
  {
   "cell_type": "markdown",
   "metadata": {},
   "source": [
    " "
   ]
  },
  {
   "cell_type": "markdown",
   "metadata": {},
   "source": [
    " "
   ]
  },
  {
   "cell_type": "markdown",
   "metadata": {},
   "source": [
    " "
   ]
  },
  {
   "cell_type": "markdown",
   "metadata": {},
   "source": [
    " "
   ]
  },
  {
   "cell_type": "markdown",
   "metadata": {},
   "source": [
    " "
   ]
  },
  {
   "cell_type": "markdown",
   "metadata": {},
   "source": [
    "# Save cleaned to CSV"
   ]
  },
  {
   "cell_type": "code",
   "execution_count": 79,
   "metadata": {},
   "outputs": [],
   "source": [
    "train_scaled.to_csv('output/train_cleaned.csv', index=False)"
   ]
  },
  {
   "cell_type": "code",
   "execution_count": 80,
   "metadata": {},
   "outputs": [],
   "source": [
    "test_scaled.to_csv('output/test_cleaned.csv', index=False)"
   ]
  },
  {
   "cell_type": "markdown",
   "metadata": {},
   "source": [
    " "
   ]
  },
  {
   "cell_type": "markdown",
   "metadata": {},
   "source": [
    " "
   ]
  },
  {
   "cell_type": "markdown",
   "metadata": {},
   "source": [
    " "
   ]
  },
  {
   "cell_type": "markdown",
   "metadata": {},
   "source": [
    " "
   ]
  },
  {
   "cell_type": "markdown",
   "metadata": {},
   "source": [
    " "
   ]
  }
 ],
 "metadata": {
  "kernelspec": {
   "display_name": "Python 3",
   "language": "python",
   "name": "python3"
  },
  "language_info": {
   "codemirror_mode": {
    "name": "ipython",
    "version": 3
   },
   "file_extension": ".py",
   "mimetype": "text/x-python",
   "name": "python",
   "nbconvert_exporter": "python",
   "pygments_lexer": "ipython3",
   "version": "3.8.6"
  }
 },
 "nbformat": 4,
 "nbformat_minor": 4
}

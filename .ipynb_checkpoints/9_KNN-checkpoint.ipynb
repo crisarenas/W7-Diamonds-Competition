{
 "cells": [
  {
   "cell_type": "code",
   "execution_count": 8,
   "metadata": {},
   "outputs": [],
   "source": [
    "import pandas as pd\n",
    "import matplotlib.pyplot as plt\n",
    "import seaborn as sn\n",
    "import numpy as np\n",
    "from sklearn.metrics import mean_squared_error, r2_score\n",
    "from sklearn.neighbors import KNeighborsRegressor\n",
    "from sklearn.model_selection import train_test_split\n",
    "from numpy.polynomial.polynomial import polyfit\n",
    "from sklearn import model_selection\n",
    "from sklearn.model_selection import cross_val_score"
   ]
  },
  {
   "cell_type": "code",
   "execution_count": 3,
   "metadata": {},
   "outputs": [],
   "source": [
    "train          = pd.read_csv('output/train_cleaned.csv')\n",
    "test           = pd.read_csv('output/test_cleaned.csv')\n",
    "submit_example = pd.read_csv('input/sample_submission.csv')"
   ]
  },
  {
   "cell_type": "code",
   "execution_count": 4,
   "metadata": {},
   "outputs": [
    {
     "data": {
      "text/html": [
       "<div>\n",
       "<style scoped>\n",
       "    .dataframe tbody tr th:only-of-type {\n",
       "        vertical-align: middle;\n",
       "    }\n",
       "\n",
       "    .dataframe tbody tr th {\n",
       "        vertical-align: top;\n",
       "    }\n",
       "\n",
       "    .dataframe thead th {\n",
       "        text-align: right;\n",
       "    }\n",
       "</style>\n",
       "<table border=\"1\" class=\"dataframe\">\n",
       "  <thead>\n",
       "    <tr style=\"text-align: right;\">\n",
       "      <th></th>\n",
       "      <th>carat</th>\n",
       "      <th>cut</th>\n",
       "      <th>color</th>\n",
       "      <th>clarity</th>\n",
       "      <th>depth</th>\n",
       "      <th>table</th>\n",
       "      <th>x</th>\n",
       "      <th>y</th>\n",
       "      <th>z</th>\n",
       "      <th>id</th>\n",
       "      <th>price</th>\n",
       "    </tr>\n",
       "  </thead>\n",
       "  <tbody>\n",
       "    <tr>\n",
       "      <th>0</th>\n",
       "      <td>-0.632446</td>\n",
       "      <td>-0.981914</td>\n",
       "      <td>-1.525600</td>\n",
       "      <td>0.028001</td>\n",
       "      <td>0.383802</td>\n",
       "      <td>-1.097621</td>\n",
       "      <td>-0.558232</td>\n",
       "      <td>-0.581687</td>\n",
       "      <td>-0.534190</td>\n",
       "      <td>0</td>\n",
       "      <td>1845</td>\n",
       "    </tr>\n",
       "    <tr>\n",
       "      <th>1</th>\n",
       "      <td>1.555868</td>\n",
       "      <td>1.699679</td>\n",
       "      <td>1.412856</td>\n",
       "      <td>-0.581031</td>\n",
       "      <td>1.290434</td>\n",
       "      <td>1.130761</td>\n",
       "      <td>1.390745</td>\n",
       "      <td>1.377291</td>\n",
       "      <td>1.591276</td>\n",
       "      <td>1</td>\n",
       "      <td>10164</td>\n",
       "    </tr>\n",
       "    <tr>\n",
       "      <th>2</th>\n",
       "      <td>1.092956</td>\n",
       "      <td>0.805815</td>\n",
       "      <td>2.000547</td>\n",
       "      <td>1.246066</td>\n",
       "      <td>-0.034644</td>\n",
       "      <td>1.130761</td>\n",
       "      <td>1.079264</td>\n",
       "      <td>1.099914</td>\n",
       "      <td>1.102993</td>\n",
       "      <td>2</td>\n",
       "      <td>5513</td>\n",
       "    </tr>\n",
       "    <tr>\n",
       "      <th>3</th>\n",
       "      <td>0.840458</td>\n",
       "      <td>-0.981914</td>\n",
       "      <td>1.412856</td>\n",
       "      <td>0.637034</td>\n",
       "      <td>0.244320</td>\n",
       "      <td>-1.097621</td>\n",
       "      <td>0.972471</td>\n",
       "      <td>0.909217</td>\n",
       "      <td>0.988103</td>\n",
       "      <td>3</td>\n",
       "      <td>5174</td>\n",
       "    </tr>\n",
       "    <tr>\n",
       "      <th>4</th>\n",
       "      <td>1.955657</td>\n",
       "      <td>-0.088050</td>\n",
       "      <td>1.412856</td>\n",
       "      <td>0.637034</td>\n",
       "      <td>-0.383348</td>\n",
       "      <td>1.130761</td>\n",
       "      <td>1.720024</td>\n",
       "      <td>1.654668</td>\n",
       "      <td>1.648721</td>\n",
       "      <td>4</td>\n",
       "      <td>10957</td>\n",
       "    </tr>\n",
       "  </tbody>\n",
       "</table>\n",
       "</div>"
      ],
      "text/plain": [
       "      carat       cut     color   clarity     depth     table         x  \\\n",
       "0 -0.632446 -0.981914 -1.525600  0.028001  0.383802 -1.097621 -0.558232   \n",
       "1  1.555868  1.699679  1.412856 -0.581031  1.290434  1.130761  1.390745   \n",
       "2  1.092956  0.805815  2.000547  1.246066 -0.034644  1.130761  1.079264   \n",
       "3  0.840458 -0.981914  1.412856  0.637034  0.244320 -1.097621  0.972471   \n",
       "4  1.955657 -0.088050  1.412856  0.637034 -0.383348  1.130761  1.720024   \n",
       "\n",
       "          y         z  id  price  \n",
       "0 -0.581687 -0.534190   0   1845  \n",
       "1  1.377291  1.591276   1  10164  \n",
       "2  1.099914  1.102993   2   5513  \n",
       "3  0.909217  0.988103   3   5174  \n",
       "4  1.654668  1.648721   4  10957  "
      ]
     },
     "execution_count": 4,
     "metadata": {},
     "output_type": "execute_result"
    }
   ],
   "source": [
    "train.head()"
   ]
  },
  {
   "cell_type": "markdown",
   "metadata": {},
   "source": [
    "# KNN"
   ]
  },
  {
   "cell_type": "code",
   "execution_count": 10,
   "metadata": {},
   "outputs": [],
   "source": [
    "X_train = train.drop(columns = ['price','id'])\n",
    "y_train = train.price\n",
    "X_test = test.drop(columns = ['id'])"
   ]
  },
  {
   "cell_type": "code",
   "execution_count": 5,
   "metadata": {},
   "outputs": [],
   "source": [
    "lr = RandomForestRegressor()\n",
    "lr.fit(X_train, y_train)\n",
    "\n",
    "y_pred_train = lr.predict(X_train)"
   ]
  },
  {
   "cell_type": "code",
   "execution_count": 6,
   "metadata": {},
   "outputs": [
    {
     "name": "stdout",
     "output_type": "stream",
     "text": [
      "RMSE = 203.92449209862494\n"
     ]
    }
   ],
   "source": [
    "print(f'RMSE = {mean_squared_error(y_pred_train, y_train)**0.5}')"
   ]
  },
  {
   "cell_type": "markdown",
   "metadata": {},
   "source": [
    " \n",
    " "
   ]
  },
  {
   "cell_type": "markdown",
   "metadata": {},
   "source": [
    " \n",
    " "
   ]
  },
  {
   "cell_type": "markdown",
   "metadata": {},
   "source": [
    " \n",
    " "
   ]
  },
  {
   "cell_type": "markdown",
   "metadata": {},
   "source": [
    "# Predicting new data"
   ]
  },
  {
   "cell_type": "code",
   "execution_count": 11,
   "metadata": {},
   "outputs": [
    {
     "name": "stdout",
     "output_type": "stream",
     "text": [
      "RMSE = 751.7008545113498\n"
     ]
    },
    {
     "data": {
      "image/png": "[encoded data removed]",
      "text/plain": [
       "<Figure size 576x576 with 1 Axes>"
      ]
     },
     "metadata": {
      "needs_background": "light"
     },
     "output_type": "display_data"
    }
   ],
   "source": [
    "\n",
    "X = X_train\n",
    "y = y_train\n",
    "X_tr, X_te, y_tr, y_te = train_test_split(X, y, test_size=0.2)\n",
    "p = KNeighborsRegressor()\n",
    "p.fit(X_tr, y_tr)\n",
    "y_pred_te = p.predict(X_te)\n",
    "\n",
    "n,m=polyfit(y_te,y_pred_te,1)\n",
    "plt.figure(figsize=(8,8))\n",
    "plt.scatter(x = y_te, y = y_pred_te, c=\"lightblue\")\n",
    "plt.plot(y_te,  m*(y_te) + n   ,':', c=\"black\")\n",
    "\n",
    "plt.xlabel(\"Truth\")\n",
    "plt.ylabel(\"Predicted\")\n",
    "print(f'RMSE = {mean_squared_error(y_pred_te, y_te)**0.5}')"
   ]
  },
  {
   "cell_type": "markdown",
   "metadata": {},
   "source": [
    " \n",
    " "
   ]
  },
  {
   "cell_type": "markdown",
   "metadata": {},
   "source": [
    " \n",
    " "
   ]
  },
  {
   "cell_type": "markdown",
   "metadata": {},
   "source": [
    "# Submit\n"
   ]
  },
  {
   "cell_type": "code",
   "execution_count": 9,
   "metadata": {},
   "outputs": [],
   "source": [
    "y_pred_test = lr.predict(X_test)\n",
    "test['price'] = y_pred_test"
   ]
  },
  {
   "cell_type": "code",
   "execution_count": 10,
   "metadata": {},
   "outputs": [],
   "source": [
    "submit = test[['id', 'price']]"
   ]
  },
  {
   "cell_type": "code",
   "execution_count": 11,
   "metadata": {},
   "outputs": [],
   "source": [
    "submit.to_csv('output/RandomForest.csv', index=False)"
   ]
  },
  {
   "cell_type": "code",
   "execution_count": 12,
   "metadata": {},
   "outputs": [
    {
     "data": {
      "text/html": [
       "<div>\n",
       "<style scoped>\n",
       "    .dataframe tbody tr th:only-of-type {\n",
       "        vertical-align: middle;\n",
       "    }\n",
       "\n",
       "    .dataframe tbody tr th {\n",
       "        vertical-align: top;\n",
       "    }\n",
       "\n",
       "    .dataframe thead th {\n",
       "        text-align: right;\n",
       "    }\n",
       "</style>\n",
       "<table border=\"1\" class=\"dataframe\">\n",
       "  <thead>\n",
       "    <tr style=\"text-align: right;\">\n",
       "      <th></th>\n",
       "      <th>id</th>\n",
       "      <th>price</th>\n",
       "    </tr>\n",
       "  </thead>\n",
       "  <tbody>\n",
       "    <tr>\n",
       "      <th>0</th>\n",
       "      <td>0</td>\n",
       "      <td>1027.830</td>\n",
       "    </tr>\n",
       "    <tr>\n",
       "      <th>1</th>\n",
       "      <td>1</td>\n",
       "      <td>6621.840</td>\n",
       "    </tr>\n",
       "    <tr>\n",
       "      <th>2</th>\n",
       "      <td>2</td>\n",
       "      <td>806.890</td>\n",
       "    </tr>\n",
       "    <tr>\n",
       "      <th>3</th>\n",
       "      <td>3</td>\n",
       "      <td>1847.760</td>\n",
       "    </tr>\n",
       "    <tr>\n",
       "      <th>4</th>\n",
       "      <td>4</td>\n",
       "      <td>977.110</td>\n",
       "    </tr>\n",
       "    <tr>\n",
       "      <th>...</th>\n",
       "      <td>...</td>\n",
       "      <td>...</td>\n",
       "    </tr>\n",
       "    <tr>\n",
       "      <th>13480</th>\n",
       "      <td>13480</td>\n",
       "      <td>495.170</td>\n",
       "    </tr>\n",
       "    <tr>\n",
       "      <th>13481</th>\n",
       "      <td>13481</td>\n",
       "      <td>4390.770</td>\n",
       "    </tr>\n",
       "    <tr>\n",
       "      <th>13482</th>\n",
       "      <td>13482</td>\n",
       "      <td>994.290</td>\n",
       "    </tr>\n",
       "    <tr>\n",
       "      <th>13483</th>\n",
       "      <td>13483</td>\n",
       "      <td>745.558</td>\n",
       "    </tr>\n",
       "    <tr>\n",
       "      <th>13484</th>\n",
       "      <td>13484</td>\n",
       "      <td>4614.890</td>\n",
       "    </tr>\n",
       "  </tbody>\n",
       "</table>\n",
       "<p>13485 rows × 2 columns</p>\n",
       "</div>"
      ],
      "text/plain": [
       "          id     price\n",
       "0          0  1027.830\n",
       "1          1  6621.840\n",
       "2          2   806.890\n",
       "3          3  1847.760\n",
       "4          4   977.110\n",
       "...      ...       ...\n",
       "13480  13480   495.170\n",
       "13481  13481  4390.770\n",
       "13482  13482   994.290\n",
       "13483  13483   745.558\n",
       "13484  13484  4614.890\n",
       "\n",
       "[13485 rows x 2 columns]"
      ]
     },
     "execution_count": 12,
     "metadata": {},
     "output_type": "execute_result"
    }
   ],
   "source": [
    "submit"
   ]
  },
  {
   "cell_type": "code",
   "execution_count": null,
   "metadata": {},
   "outputs": [],
   "source": []
  },
  {
   "cell_type": "code",
   "execution_count": null,
   "metadata": {},
   "outputs": [],
   "source": []
  }
 ],
 "metadata": {
  "kernelspec": {
   "display_name": "Python 3",
   "language": "python",
   "name": "python3"
  },
  "language_info": {
   "codemirror_mode": {
    "name": "ipython",
    "version": 3
   },
   "file_extension": ".py",
   "mimetype": "text/x-python",
   "name": "python",
   "nbconvert_exporter": "python",
   "pygments_lexer": "ipython3",
   "version": "3.8.6"
  }
 },
 "nbformat": 4,
 "nbformat_minor": 4
}
